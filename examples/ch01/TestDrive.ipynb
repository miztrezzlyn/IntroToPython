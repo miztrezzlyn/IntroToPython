{
 "cells": [
  {
   "cell_type": "code",
   "execution_count": null,
   "id": "545a13e4-c509-40b6-8a7f-610d40860724",
   "metadata": {},
   "outputs": [],
   "source": [
    "45+72"
   ]
  },
  {
   "cell_type": "code",
   "execution_count": null,
   "id": "2d29a01b-50cb-4252-985c-c71403c7d30c",
   "metadata": {},
   "outputs": [],
   "source": [
    "5*(12.7-4)/2"
   ]
  },
  {
   "cell_type": "code",
   "execution_count": 1,
   "id": "96e06b3e-9e77-49f2-8e85-a62cbb9150f9",
   "metadata": {},
   "outputs": [
    {
     "data": {
      "text/plain": [
       "35"
      ]
     },
     "execution_count": 1,
     "metadata": {},
     "output_type": "execute_result"
    }
   ],
   "source": [
    "5*(3+4)"
   ]
  },
  {
   "cell_type": "code",
   "execution_count": 2,
   "id": "ab0955d5-c9da-435c-9662-c3d10710bd51",
   "metadata": {},
   "outputs": [
    {
     "data": {
      "text/plain": [
       "19"
      ]
     },
     "execution_count": 2,
     "metadata": {},
     "output_type": "execute_result"
    }
   ],
   "source": [
    "5*3+4"
   ]
  }
 ],
 "metadata": {
  "kernelspec": {
   "display_name": "Python 3 (ipykernel)",
   "language": "python",
   "name": "python3"
  },
  "language_info": {
   "codemirror_mode": {
    "name": "ipython",
    "version": 3
   },
   "file_extension": ".py",
   "mimetype": "text/x-python",
   "name": "python",
   "nbconvert_exporter": "python",
   "pygments_lexer": "ipython3",
   "version": "3.9.7"
  }
 },
 "nbformat": 4,
 "nbformat_minor": 5
}
